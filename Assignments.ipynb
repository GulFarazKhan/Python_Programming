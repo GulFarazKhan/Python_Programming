{
 "cells": [
  {
   "cell_type": "code",
   "execution_count": 15,
   "metadata": {},
   "outputs": [
    {
     "name": "stdout",
     "output_type": "stream",
     "text": [
      "Twinkle, twinkle, little star,\n",
      "      How I wonder what you are!\n",
      "            Up above the world so high,\n",
      "            Like a diamond in the sky.\n",
      "Twinkle, twinkle, little star,\n",
      "      How I wonder what you are\n"
     ]
    }
   ],
   "source": [
    "# Print a poem in specified sequence\n",
    "\n",
    "print(\"Twinkle, twinkle, little star,\")\n",
    "print(\"      How I wonder what you are!\")\n",
    "print(\"            Up above the world so high,\")\n",
    "print(\"            Like a diamond in the sky.\")\n",
    "print(\"Twinkle, twinkle, little star,\")\n",
    "print(\"      How I wonder what you are\")"
   ]
  },
  {
   "cell_type": "code",
   "execution_count": 3,
   "metadata": {},
   "outputs": [
    {
     "name": "stdout",
     "output_type": "stream",
     "text": [
      "3.7.4\n"
     ]
    }
   ],
   "source": [
    "# A program to print Current Version of Python\n",
    "\n",
    "import platform\n",
    "print(platform.python_version())"
   ]
  },
  {
   "cell_type": "code",
   "execution_count": 21,
   "metadata": {},
   "outputs": [
    {
     "name": "stdout",
     "output_type": "stream",
     "text": [
      "Current date and time : \n",
      "2019-12-16 16:22:43\n"
     ]
    }
   ],
   "source": [
    "# A program to print the current time and date\n",
    "\n",
    "import datetime\n",
    "now = datetime.datetime.now()\n",
    "print (\"Current date and time : \")\n",
    "print (now.strftime(\"%Y-%m-%d %H:%M:%S\"))"
   ]
  },
  {
   "cell_type": "code",
   "execution_count": 18,
   "metadata": {},
   "outputs": [
    {
     "name": "stdout",
     "output_type": "stream",
     "text": [
      "Enter Value of Radius : =  2\n",
      "Area of the Circle : =  12.568\n"
     ]
    }
   ],
   "source": [
    "# Write a Python program which accepts the radius of a circle from the user and compute the area.\n",
    "Radius = int(input(\"Enter Value of Radius : =  \"))\n",
    "Pi = 3.142\n",
    "Area = Radius**2*Pi\n",
    "print(\"Area of the Circle : = \",Area)"
   ]
  },
  {
   "cell_type": "code",
   "execution_count": 19,
   "metadata": {},
   "outputs": [
    {
     "name": "stdout",
     "output_type": "stream",
     "text": [
      "Enter your first name Gul\n",
      "Enter Your Last Name  Faraz\n",
      "Faraz Gul\n"
     ]
    }
   ],
   "source": [
    "# Write a Python program which accepts the user's first and last name and print them in reverse order with a space between them.\n",
    "\n",
    "First_Name = input(\"Enter your first name \")\n",
    "Last_Name = input(\"Enter Your Last Name  \")\n",
    "Space = \" \"\n",
    "Reverse_Name = Last_Name+Space+First_Name\n",
    "print(Reverse_Name)"
   ]
  },
  {
   "cell_type": "code",
   "execution_count": 20,
   "metadata": {},
   "outputs": [
    {
     "name": "stdout",
     "output_type": "stream",
     "text": [
      "Enter First value : 10\n",
      "Enter Second Value : 20\n",
      "Addition of two Numbers is =  30\n"
     ]
    }
   ],
   "source": [
    "#Write a python program which takes two inputs from user and print them addition\n",
    "\n",
    "X = int(input(\"Enter First value : \"))\n",
    "Y = int(input(\"Enter Second Value : \"))\n",
    "Z = X+Y\n",
    "print (\"Addition of two Numbers is = \",Z)"
   ]
  },
  {
   "cell_type": "code",
   "execution_count": 1,
   "metadata": {},
   "outputs": [],
   "source": [
    "# Assignment 1 Finish.........."
   ]
  },
  {
   "cell_type": "code",
   "execution_count": null,
   "metadata": {},
   "outputs": [],
   "source": []
  },
  {
   "cell_type": "code",
   "execution_count": 2,
   "metadata": {},
   "outputs": [],
   "source": [
    "# Assignment 2 Begins...."
   ]
  },
  {
   "cell_type": "code",
   "execution_count": null,
   "metadata": {},
   "outputs": [],
   "source": [
    "\"\"\"  Write a program which takes 5 inputs from user for different subject’s marks, total it \n",
    "and generate mark sheet using grades ?\n",
    "\"\"\"\n",
    "Maths = int(input(\"Enter Numbers of Mathematics : \"))\n",
    "Phy = int(input(\"Enter Numbers of Physics : \"))\n",
    "Eng = int(input(\"Enter Numbers of English : \"))\n",
    "Urdu = int(input(\"Enter Numbers of Urdu : \"))\n",
    "Comp = int(input(\"Enter Numbers of Computer : \"))\n",
    "Obtained_Marks = (Maths+Phy+Eng+Urdu+Comp)\n",
    "print(\"Total Obtained Numbers = \",Obtained_Marks)\n",
    "percentage = (Obtained_Marks/500)*100\n",
    "print(\"percentage = \",percentage)\n",
    "\n",
    "if(percentage >= 90):\n",
    "    print(\"A+ Grade\")\n",
    "elif(percentage >= 80):\n",
    "    print(\"A Grade\")\n",
    "elif(percentage >= 70):\n",
    "    print(\"B Grade\")\n",
    "elif(percentage >= 60):\n",
    "    print(\"C Grade\")\n",
    "elif(percentage >= 40):\n",
    "    print(\"D Grade\")\n",
    "else:\n",
    "    print(\"Fail\")"
   ]
  },
  {
   "cell_type": "code",
   "execution_count": null,
   "metadata": {},
   "outputs": [],
   "source": [
    "# Write a program which take input from user and identify that the given number is even or odd?\n",
    "No = int(input(\"Enter any Number : \"))\n",
    "if No%2 == 0:\n",
    "    print(\"This is Even Number \",No)\n",
    "else:\n",
    "    print(\"This is Odd Number \",No)"
   ]
  },
  {
   "cell_type": "code",
   "execution_count": null,
   "metadata": {},
   "outputs": [],
   "source": [
    "# Write a program which print the length of the list?\n",
    "\n",
    "a = [1,2,3,4,5,6]\n",
    " \n",
    "print(\"The length of list is: \", len(a)) "
   ]
  },
  {
   "cell_type": "code",
   "execution_count": null,
   "metadata": {},
   "outputs": [],
   "source": [
    "# Write a Python program to sum all the numeric items in a list?\n",
    "list = [101, 0, 23, 78, 90,30,56,76,87] \n",
    "  \n",
    "total = sum(list) \n",
    "  \n",
    "# printing total value \n",
    "print(\"Sum of all elements in given list: \", total) "
   ]
  },
  {
   "cell_type": "code",
   "execution_count": null,
   "metadata": {},
   "outputs": [],
   "source": [
    "# Write a Python program to get the largest number from a numeric list.\n",
    "list1 = [0,45,890,12,45,67,43,58,97,0,345,23,546,89] \n",
    "  \n",
    "print(\"Largest element is:\", max(list1)) "
   ]
  },
  {
   "cell_type": "code",
   "execution_count": null,
   "metadata": {},
   "outputs": [],
   "source": [
    "# write a program that prints out all the elements of the list that are less than 5.\n",
    "\n",
    "a = [1, 1, 2, 3, 5, 8, 13, 21, 34, 55, 89]\n",
    "\n",
    "new_list = []\n",
    "\n",
    "for item in a:\n",
    "  \n",
    "       if item < 5:\n",
    "    \n",
    "        new_list.append(item)\n",
    "print(new_list)"
   ]
  },
  {
   "cell_type": "code",
   "execution_count": null,
   "metadata": {},
   "outputs": [],
   "source": [
    "# Assignment 2 end......"
   ]
  },
  {
   "cell_type": "code",
   "execution_count": null,
   "metadata": {},
   "outputs": [],
   "source": []
  },
  {
   "cell_type": "code",
   "execution_count": null,
   "metadata": {},
   "outputs": [],
   "source": [
    "# Assignment 3 begins...."
   ]
  },
  {
   "cell_type": "code",
   "execution_count": null,
   "metadata": {},
   "outputs": [],
   "source": [
    "# Write a Python script to add a key to a dictionary\n",
    "\n",
    "dict = { 1 : \"Name\", 2 : \"Address\", 3 : 'Phone'}\n",
    "dict.update({4 : \"qualification\"})\n",
    "print(dict)"
   ]
  },
  {
   "cell_type": "code",
   "execution_count": null,
   "metadata": {},
   "outputs": [],
   "source": [
    "# Write a Python program to sum all the numeric items in a dictionary\n",
    "\n",
    "dict_1 = {'A' : 100, 'B' : 200, 'C' : 300, 'D' : 400, 'E' : 500}\n",
    "sum = 0\n",
    "for j in dict_1:\n",
    "    sum = sum + dict_1[j]\n",
    "print(\"Sum is equal to \",sum) "
   ]
  },
  {
   "cell_type": "code",
   "execution_count": null,
   "metadata": {},
   "outputs": [],
   "source": [
    "# Write a program to identify duplicate values from list\n",
    "\n",
    "def Repeat(x): \n",
    "    _size = len(x) \n",
    "    repeated = [] \n",
    "    for i in range(_size): \n",
    "        k = i + 1\n",
    "        for j in range(k, _size): \n",
    "            if x[i] == x[j] and x[i] not in repeated: \n",
    "                repeated.append(x[i]) \n",
    "    return repeated \n",
    "  \n",
    "# Driver Code \n",
    "list1 = [10, 20, 30, 20, 20, 30, 40,  \n",
    "        \n",
    "         50, -20, 60, 60, -20, -20] \n",
    "print (Repeat(list1))      "
   ]
  },
  {
   "cell_type": "code",
   "execution_count": null,
   "metadata": {},
   "outputs": [],
   "source": [
    "# Write a Python script to check if a given key already exists in a dictionary\n",
    "\n",
    "def checkKey(dict, key): \n",
    "      \n",
    "    if key in dict.keys(): \n",
    "        print(\"Present, \", end =\" \") \n",
    "        print(\"value =\", dict[key]) \n",
    "    else: \n",
    "        print(\"Not present\") \n",
    "  \n",
    "# Driver Code \n",
    "dict = {'a': 100, 'b':200, 'c':300} \n",
    "  \n",
    "key = 'b'\n",
    "checkKey(dict, key) \n",
    "\n",
    "key = 'w'\n",
    "checkKey(dict, key)"
   ]
  },
  {
   "cell_type": "code",
   "execution_count": null,
   "metadata": {},
   "outputs": [],
   "source": [
    "# Make a calculator using Python with addition , subtraction , multiplication , division and power.\n",
    "\n",
    "first = int(input(\"Enter First Number : \"))\n",
    "second = int(input(\"Enter Second Number : \"))\n",
    "operator = input(\"Enter Operator for Operation performing \")\n",
    "if operator == '+':\n",
    "    result = first+second\n",
    "    print(result)\n",
    "elif operator == '-':\n",
    "    result =  first-second\n",
    "    print(result)\n",
    "elif operator == '*':\n",
    "    result = first*second\n",
    "    print(result)\n",
    "elif operator == '/':\n",
    "    result = first/second\n",
    "    print(result)\n",
    "elif operator == '**':\n",
    "    power = int(input(\"Enter number which you want power :\"))\n",
    "    result = power**2\n",
    "    print(result)\n",
    "\n",
    "else:\n",
    "    print(\"Invalid operator\")\n",
    "  \n"
   ]
  },
  {
   "cell_type": "code",
   "execution_count": null,
   "metadata": {},
   "outputs": [],
   "source": [
    "# Assignment 3 end....."
   ]
  },
  {
   "cell_type": "code",
   "execution_count": null,
   "metadata": {},
   "outputs": [],
   "source": []
  },
  {
   "cell_type": "code",
   "execution_count": null,
   "metadata": {},
   "outputs": [],
   "source": [
    "Assignment 4 begins...."
   ]
  },
  {
   "cell_type": "code",
   "execution_count": null,
   "metadata": {},
   "outputs": [],
   "source": [
    "dict = {\"first_Name\" : \"Mehboob\", \"Last_Name\" : \"Ali Shah\", \"Age\" : 45, \"City\" : \"Karachi\"}\n",
    "dict.update(Qulification = \"B.A\")\n",
    "print(dict)\n",
    "dict[\"Qulification\"] = \"M.A\"\n",
    "print(dict)\n",
    "del dict[\"Qulification\"]\n",
    "print(dict)"
   ]
  },
  {
   "cell_type": "code",
   "execution_count": null,
   "metadata": {},
   "outputs": [],
   "source": [
    "\"\"\" Make a dictionary called cities. Use the names of three cities as keys in your dictionary.\n",
    "Create a dictionary of information about each city and include the country that the city is in,\n",
    "its approximate population, and one fact about that city. The keys for each city’s dictionary\n",
    "should be something like country, population, and fact. Print the name of each city\n",
    "and all of the information you have stored about it.\n",
    "\n",
    "\"\"\"\n",
    "\n",
    "cities = {\n",
    "   'Karachi' : { 'Country' : 'Pakistan', 'Population' : 15741000, 'fact' : 'Largest city of Pakistan'\n",
    "        },\n",
    "   'Beijing' : { 'Country' : 'China', 'Population' : '21.54 million', 'fact' : 'Second Largest city of China'\n",
    "        \n",
    "    },\n",
    "    'Cairo' : {  'Country' : ' Egypt', 'Population' : '9.5 million', 'fact' : 'It is set on the Nile River'\n",
    "        \n",
    "    }\n",
    "}\n",
    "print(cities['Karachi'])\n",
    "print(cities['Beijing'])\n",
    "print(cities[\"Cairo\"])"
   ]
  },
  {
   "cell_type": "code",
   "execution_count": null,
   "metadata": {},
   "outputs": [],
   "source": []
  },
  {
   "cell_type": "code",
   "execution_count": null,
   "metadata": {},
   "outputs": [],
   "source": [
    "#  Assignment 4 ... end"
   ]
  },
  {
   "cell_type": "code",
   "execution_count": null,
   "metadata": {},
   "outputs": [],
   "source": []
  },
  {
   "cell_type": "code",
   "execution_count": null,
   "metadata": {},
   "outputs": [],
   "source": [
    "# Assignment 6 begins...."
   ]
  },
  {
   "cell_type": "code",
   "execution_count": null,
   "metadata": {},
   "outputs": [],
   "source": []
  },
  {
   "cell_type": "code",
   "execution_count": null,
   "metadata": {},
   "outputs": [],
   "source": [
    "# Question 1:  Define Object Oriented Programming Language?\n",
    "\n",
    "\"\"\"    programmers define the data type of a data structure,\n",
    "and also the types of operations that can be \n",
    "applied to the data structure\n",
    "\"\"\""
   ]
  },
  {
   "cell_type": "code",
   "execution_count": null,
   "metadata": {},
   "outputs": [],
   "source": [
    "#  Question 2: List down the Benefits of OOP?\n",
    "\"\"\"\n",
    "1. Real Word Entities – In OOP real world entities are used.\n",
    "2. Code Reusability – Code reusability is one of the characteristics of object-oriented programming.\n",
    "3. Easy Management – code management becomes very easy in the object-oriented programming.\n",
    "\n",
    "\"\"\""
   ]
  },
  {
   "cell_type": "code",
   "execution_count": null,
   "metadata": {},
   "outputs": [],
   "source": [
    "#  Question 3:  Differentiate between function and method?\n",
    "\n",
    "\"\"\"  Python method is called on an object, unlike a function.\n",
    "Since we call a method on an object, it can access the data within it.\n",
    "A method may alter an object's state, but Python function usually only operates on it,\n",
    "and then prints something or returns a value\n",
    "\"\"\""
   ]
  },
  {
   "cell_type": "code",
   "execution_count": null,
   "metadata": {},
   "outputs": [],
   "source": [
    "\"\"\"    Question 4:\n",
    "Define the following terms:\n",
    "1. Class\n",
    "2. Object\n",
    "3. Attribute\n",
    "4. Behavior\n",
    "\n",
    "\"\"\"\n",
    "\n",
    "\n",
    "\n",
    "\"\"\"\n",
    "Class:  A class is a code template for creating objects.\n",
    "Objects have member variables and have behaviour associated with them\n",
    "\n",
    "\n",
    "Object:  Object is simply a collection of data (variables) and methods (functions)\n",
    "that act on those data. And, class is a blueprint for the object.\n",
    "\n",
    "\n",
    "Attribute : An instance attribute is a Python variable belonging to one, and only one, object.\n",
    "            A class attribute is a Python variable that belongs to a class rather than a particular object.\n",
    "            \n",
    "            \n",
    "            \n",
    "\"\"\""
   ]
  }
 ],
 "metadata": {
  "kernelspec": {
   "display_name": "Python 3",
   "language": "python",
   "name": "python3"
  },
  "language_info": {
   "codemirror_mode": {
    "name": "ipython",
    "version": 3
   },
   "file_extension": ".py",
   "mimetype": "text/x-python",
   "name": "python",
   "nbconvert_exporter": "python",
   "pygments_lexer": "ipython3",
   "version": "3.7.4"
  }
 },
 "nbformat": 4,
 "nbformat_minor": 2
}
